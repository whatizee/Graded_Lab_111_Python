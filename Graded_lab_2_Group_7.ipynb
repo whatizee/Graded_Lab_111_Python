{
 "cells": [
  {
   "cell_type": "markdown",
   "metadata": {
    "id": "qDkq6R5D_JFB"
   },
   "source": [
    "**1. Create a class called Employee with attributes name, position, and salary. Implement methods get_details() and give_raise(amount).**"
   ]
  },
  {
   "cell_type": "code",
   "execution_count": null,
   "metadata": {
    "colab": {
     "base_uri": "https://localhost:8080/"
    },
    "id": "LU-9lGvn_Shc",
    "outputId": "ae7f4b88-8d16-4cf2-a37e-24dc4ba1da42"
   },
   "outputs": [
    {
     "name": "stdout",
     "output_type": "stream",
     "text": [
      "Details of the employee: \n",
      "Name: Jibin\n",
      "Position: Manager \n",
      "Salary: 2000\n",
      "5000\n"
     ]
    }
   ],
   "source": [
    "class Employee:\n",
    "  def __init__(self, name, position, salary):\n",
    "    self.name = name\n",
    "    self.position = position\n",
    "    self.salary = salary\n",
    "  def get_details(self):\n",
    "    return f\"Details of the employee: \\nName: {self.name}\\nPosition: {self.position} \\nSalary: {self.salary}\"\n",
    "  def get_raise(self, amount):\n",
    "    self.amount = amount\n",
    "    self.salary = self.salary + self.amount\n",
    "    return self.salary\n",
    "\n",
    "Emp1 = Employee(\"Jibin\", \"Manager\", 2000)\n",
    "Details = Emp1.get_details()\n",
    "raise_amount = Emp1.get_raise(3000)\n",
    "print(Details)\n",
    "print(raise_amount)"
   ]
  },
  {
   "cell_type": "markdown",
   "metadata": {
    "id": "RtJ9gL1KCkI3"
   },
   "source": [
    "# 2.Create a Parent Class"
   ]
  },
  {
   "cell_type": "markdown",
   "metadata": {
    "id": "PuZdx9XPB7tE"
   },
   "source": [
    "**2.1 Design a parent class Device with attributes brand and price.**"
   ]
  },
  {
   "cell_type": "code",
   "execution_count": null,
   "metadata": {
    "id": "7DS1INs5B08r"
   },
   "outputs": [],
   "source": [
    "class Device:\n",
    "  def __init__(self, brand, price):\n",
    "    self.brand = brand\n",
    "    self.price = price\n",
    "  def mobile_details(self):\n",
    "    print(f\"The mobile brand is {self.brand} \\nThe Price in INR :{self.price}\")\n",
    "\n",
    "Mobile_1 = Device(\"Apple\", 50000)\n",
    "Mobile_2 = Device(\"Samsung\", 42000)\n",
    "\n"
   ]
  },
  {
   "cell_type": "markdown",
   "metadata": {
    "id": "am6z1AMgCwrN"
   },
   "source": [
    "# 3.Create at least two classes that inherit from the parent"
   ]
  },
  {
   "cell_type": "code",
   "execution_count": null,
   "metadata": {
    "id": "tCFvM3afCfkU"
   },
   "outputs": [],
   "source": [
    "# Creating manager  class from parent class Employee\n",
    "class Manager(Employee):\n",
    "  def __init__(self, name, position, salary, department):\n",
    "    super().__init__(name, position, salary)\n",
    "    self.department = department\n",
    "  def get_manager_details(self):\n",
    "    print(f\"Details of the Employee is : \\nName : {self.name}, \\nPosition : {self.position}, \\nSalary : {self.salary}, and \\ndepartment : {self.department}\")"
   ]
  },
  {
   "cell_type": "code",
   "execution_count": null,
   "metadata": {
    "id": "v7yVHEXdEwTD"
   },
   "outputs": [],
   "source": [
    "# Creating  intern class from parent class Employee\n",
    "class Intern(Employee):\n",
    "  def __init__(self, name, position, salary, school):\n",
    "    super().__init__(name, position, salary)\n",
    "    self.school = school\n",
    "  def get_intern_details(self):\n",
    "    print( f\"Details of intern is given \\nName:{self.name}, \\nPosition : {self.position}, \\nSalary : {self.salary},\\nSchool : {self.school} \")"
   ]
  },
  {
   "cell_type": "code",
   "execution_count": null,
   "metadata": {
    "id": "ns6xKrvhKaQg"
   },
   "outputs": [],
   "source": [
    "# Creating  developer class from parent class Employee\n",
    "class developer(Employee):\n",
    "  def __init__(self, name, position, salary, prgmlang):\n",
    "    Employee.__init__(self,name, position, salary)\n",
    "    self.prgmlang = prgmlang\n",
    "  def get_developer_details(self):\n",
    "    print( f\"Details of intern is given \\nName:{self.name}, \\nPosition : {self.position}, \\nSalary : {self.salary}, \\nProgramming Language : {self.prgmlang} \")"
   ]
  },
  {
   "cell_type": "code",
   "execution_count": null,
   "metadata": {
    "id": "ExnYAq1UJnhg"
   },
   "outputs": [],
   "source": [
    "Manager_1 = Manager(\"Jibin\", \"Manager\", 10000, \"Events\")\n",
    "Intern_1 = Intern(\"Rahul\", \"Junior Server\", 2000, \"st.clair\")\n",
    "Developer_1 = developer(\"Raihana\",\"Senior Developer\", 5000, \"Python\")"
   ]
  },
  {
   "cell_type": "code",
   "execution_count": null,
   "metadata": {
    "colab": {
     "base_uri": "https://localhost:8080/"
    },
    "id": "6_0ia3PSKY1x",
    "outputId": "dea876bb-8583-49e1-d492-61770346fdf4"
   },
   "outputs": [
    {
     "name": "stdout",
     "output_type": "stream",
     "text": [
      "Details of intern is given \n",
      "Name:Rahul, \n",
      "Position : Junior Server, \n",
      "Salary : 2000,\n",
      "School : st.clair \n"
     ]
    }
   ],
   "source": [
    "Intern_1.get_intern_details()"
   ]
  },
  {
   "cell_type": "code",
   "execution_count": null,
   "metadata": {
    "colab": {
     "base_uri": "https://localhost:8080/"
    },
    "id": "KaPXI9JoKemh",
    "outputId": "a5231fff-16e1-4451-abd0-1c90c2b6ee11"
   },
   "outputs": [
    {
     "name": "stdout",
     "output_type": "stream",
     "text": [
      "Details of the Employee is : \n",
      "Name : Jibin, \n",
      "Position : Manager, \n",
      "Salary : 10000, and \n",
      "department : Events\n"
     ]
    }
   ],
   "source": [
    "Manager_1.get_manager_details()"
   ]
  },
  {
   "cell_type": "code",
   "execution_count": null,
   "metadata": {
    "colab": {
     "base_uri": "https://localhost:8080/"
    },
    "id": "GwnkjiblM5gR",
    "outputId": "182b93c4-a7bf-482a-ab73-927aee93fbc0"
   },
   "outputs": [
    {
     "name": "stdout",
     "output_type": "stream",
     "text": [
      "Details of intern is given \n",
      "Name:Raihana, \n",
      "Position : Senior Developer, \n",
      "Salary : 5000, \n",
      "Programming Language : Python \n"
     ]
    }
   ],
   "source": [
    "Developer_1.get_developer_details()"
   ]
  },
  {
   "cell_type": "markdown",
   "metadata": {
    "id": "Zwf2DVHkLD53"
   },
   "source": [
    "#4. Create custom methods/attributes for parent"
   ]
  },
  {
   "cell_type": "code",
   "execution_count": 1,
   "metadata": {
    "id": "aMj2mk4TOBpz"
   },
   "outputs": [],
   "source": [
    "# Implement a custom method method perimeter() for the shape class.(consider square for simplicity)\n",
    "class Shape:\n",
    "  def __init__(self, side_length):\n",
    "    self.side_length = side_length\n",
    "\n",
    "\n",
    "  def perimeter(self):\n",
    "    perimeter = 4 * self.side_length\n",
    "    return perimeter"
   ]
  },
  {
   "cell_type": "code",
   "execution_count": null,
   "metadata": {
    "colab": {
     "base_uri": "https://localhost:8080/"
    },
    "id": "uij9lKtLOK1b",
    "outputId": "5bf1d768-32b8-4d03-958f-76813e7b3607"
   },
   "outputs": [
    {
     "name": "stdout",
     "output_type": "stream",
     "text": [
      " perimeter of the square is 40\n"
     ]
    }
   ],
   "source": [
    "a = Shape(10)\n",
    "print(f\" perimeter of the square is {a.perimeter()}\")"
   ]
  },
  {
   "cell_type": "markdown",
   "metadata": {
    "id": "h2qI5PxNVJMc"
   },
   "source": []
  },
  {
   "cell_type": "markdown",
   "metadata": {
    "id": "I336EKgQVU8_"
   },
   "source": [
    "# 5. Override parent methods"
   ]
  },
  {
   "cell_type": "code",
   "execution_count": null,
   "metadata": {
    "id": "ceD-IQhxVaC2"
   },
   "outputs": [],
   "source": [
    "#5. Override the power_on() method of the Device class in the Smartphone subclass to print \"Smartphone powering on\".\n",
    "class Device:\n",
    "  def power_on(self):\n",
    "    print(\"Smart phone powering on in Device class\")\n",
    "\n",
    "\n",
    "class Smartphone(Device):\n",
    "  def power_on(self):\n",
    "    print(\"Smartphone powering on in Smartphone class\")"
   ]
  },
  {
   "cell_type": "code",
   "execution_count": null,
   "metadata": {
    "colab": {
     "base_uri": "https://localhost:8080/"
    },
    "id": "k1RWSyTbPDcD",
    "outputId": "48d51ef0-dbd8-41d1-f9c8-abfe92269989"
   },
   "outputs": [
    {
     "name": "stdout",
     "output_type": "stream",
     "text": [
      "Smart phone powering on in Device class\n",
      "Smartphone powering on in Smartphone class\n"
     ]
    }
   ],
   "source": [
    "phone_1 = Device()\n",
    "phone_1.power_on()\n",
    "phone_2 = Smartphone()\n",
    "phone_2.power_on()"
   ]
  },
  {
   "cell_type": "markdown",
   "metadata": {
    "id": "8USGTZiEPMtm"
   },
   "source": [
    "\n",
    "In the given code, the \"power_on()\" method is being overridden in the child class. When this method is called, the program will first look for a \"power_on()\" method in the child class. If it exists, the child class's \"power_on()\" method will be executed. If there's no \"power_on()\" method in the child class, the program will then check if the parent class has a \"power_on()\" method. If it does, the parent class's \"power_on()\" method will be executed."
   ]
  },
  {
   "cell_type": "markdown",
   "metadata": {
    "id": "cw4qQo4MVc1W"
   },
   "source": [
    "# 6. Create repr method"
   ]
  },
  {
   "cell_type": "code",
   "execution_count": null,
   "metadata": {
    "id": "K4kvZnV5VgJj"
   },
   "outputs": [],
   "source": [
    "# 6. Design a __repr__() method for the Employee class that displays employee details in the format \"Employee(name, position, salary)\".\n",
    "\n",
    "\n",
    "class Employee:\n",
    "  def __init__(self, name, position, salary):\n",
    "    self.name = name\n",
    "    self.position = position\n",
    "    self.salary = salary\n",
    "  def __repr__(self):\n",
    "    return f\"Employee({self.name}, {self.position}, {self.salary})\""
   ]
  },
  {
   "cell_type": "code",
   "execution_count": null,
   "metadata": {
    "id": "NQ_8ei5eQ7Q9"
   },
   "outputs": [],
   "source": [
    "employee_1 = Employee(\"Jibin\", \"Developer\", 9000)"
   ]
  },
  {
   "cell_type": "code",
   "execution_count": null,
   "metadata": {
    "colab": {
     "base_uri": "https://localhost:8080/"
    },
    "id": "z26yjp1vRDt2",
    "outputId": "e0cc916b-f871-41c8-846c-7d3bc005b565"
   },
   "outputs": [
    {
     "data": {
      "text/plain": [
       "Employee(Jibin, Developer, 9000)"
      ]
     },
     "execution_count": 21,
     "metadata": {},
     "output_type": "execute_result"
    }
   ],
   "source": [
    "employee_1"
   ]
  },
  {
   "cell_type": "code",
   "execution_count": null,
   "metadata": {
    "id": "AD4SCrgeRrfT"
   },
   "outputs": [],
   "source": [
    "# \"__repr__()\" method in python is a special type of method which is defined in the class to return a string representation of the objects"
   ]
  }
 ],
 "metadata": {
  "colab": {
   "provenance": []
  },
  "kernelspec": {
   "display_name": "Python 3 (ipykernel)",
   "language": "python",
   "name": "python3"
  },
  "language_info": {
   "codemirror_mode": {
    "name": "ipython",
    "version": 3
   },
   "file_extension": ".py",
   "mimetype": "text/x-python",
   "name": "python",
   "nbconvert_exporter": "python",
   "pygments_lexer": "ipython3",
   "version": "3.8.4"
  }
 },
 "nbformat": 4,
 "nbformat_minor": 1
}
