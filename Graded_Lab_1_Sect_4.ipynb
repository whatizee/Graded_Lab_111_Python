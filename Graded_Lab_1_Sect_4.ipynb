{
 "cells": [
  {
   "cell_type": "markdown",
   "id": "66f002c2",
   "metadata": {
    "id": "66f002c2"
   },
   "source": [
    "# Functions:\n"
   ]
  },
  {
   "cell_type": "markdown",
   "id": "a10ae4ed",
   "metadata": {
    "id": "a10ae4ed"
   },
   "source": [
    "    Q1. - Explain the difference between defining a function and calling a function.\n"
   ]
  },
  {
   "cell_type": "markdown",
   "id": "83fd6df1",
   "metadata": {
    "id": "83fd6df1"
   },
   "source": [
    "    Q2. - What are default parameters in functions, and why might you use them?\n",
    "\n"
   ]
  },
  {
   "cell_type": "markdown",
   "id": "6b157fd0",
   "metadata": {
    "id": "6b157fd0"
   },
   "source": [
    "    Q3. How does Python handle functions that do not have a return statement? What value is returned by default?\n",
    "    "
   ]
  },
  {
   "cell_type": "markdown",
   "id": "b5c21eb8",
   "metadata": {
    "id": "b5c21eb8"
   },
   "source": [
    "    Q4. Describe the concept of first-class functions in Python and provide an example.\n",
    "    \n"
   ]
  },
  {
   "cell_type": "markdown",
   "id": "be8be56d",
   "metadata": {
    "id": "be8be56d"
   },
   "source": [
    "Q5.Write a function that takes two lists and returns a list containing their common\n",
    "elements without duplicates."
   ]
  },
  {
   "cell_type": "markdown",
   "id": "ed8b8522",
   "metadata": {
    "id": "ed8b8522"
   },
   "source": [
    "Q6.Create a function that accepts a string and returns its reverse,\n",
    "but without using Python's built-in reverse or slicing operations."
   ]
  },
  {
   "cell_type": "markdown",
   "id": "8dc2f16d",
   "metadata": {
    "id": "8dc2f16d"
   },
   "source": [
    "Q7.Write a function that calculates the factorial of a number using recursion."
   ]
  },
  {
   "cell_type": "markdown",
   "id": "c1037279",
   "metadata": {
    "id": "c1037279"
   },
   "source": [
    "Q8.Write a function that takes a list of numbers and returns a new\n",
    "list containing the even numbers sorted in ascending order and odd numbers sorted in descending order.\n"
   ]
  },
  {
   "cell_type": "markdown",
   "id": "f2b019f3",
   "metadata": {
    "id": "f2b019f3"
   },
   "source": [
    "# Docstring:\n"
   ]
  },
  {
   "cell_type": "markdown",
   "id": "17d5b226",
   "metadata": {
    "id": "17d5b226"
   },
   "source": [
    "    Q9. What is the primary purpose of a docstring in a Python function or class?\n",
    "    \n",
    " \n"
   ]
  },
  {
   "cell_type": "markdown",
   "id": "ace1d3a0",
   "metadata": {
    "id": "ace1d3a0"
   },
   "source": [
    "    Q10. Describe the difference between single-line and multi-line docstrings. When might each be appropriate?\n",
    "    \n",
    " \n"
   ]
  },
  {
   "cell_type": "markdown",
   "id": "20f1c5c9",
   "metadata": {
    "id": "20f1c5c9"
   },
   "source": [
    "    Q11. How can docstrings be accessed and used dynamically in a Python program?\n",
    "    \n",
    "   \n"
   ]
  },
  {
   "cell_type": "markdown",
   "id": "3daac26e",
   "metadata": {
    "id": "3daac26e"
   },
   "source": [
    "Q12. Write a function that calculates the area of a circle given its radius.\n",
    "Ensure it has a properly formatted docstring."
   ]
  },
  {
   "cell_type": "markdown",
   "id": "6f12decb",
   "metadata": {
    "id": "6f12decb"
   },
   "source": [
    "# Implement Error Checking with Custom Error Messages:\n"
   ]
  },
  {
   "cell_type": "markdown",
   "id": "0434a28b",
   "metadata": {
    "id": "0434a28b"
   },
   "source": [
    "    Q13. Why is error checking an essential part of robust software development?\n",
    "    \n",
    "   "
   ]
  },
  {
   "cell_type": "markdown",
   "id": "ac362b72",
   "metadata": {
    "id": "ac362b72"
   },
   "source": [
    "    Q14. Explain the difference between a syntax error and a runtime exception in Python.\n",
    "   \n"
   ]
  },
  {
   "cell_type": "markdown",
   "id": "cc311590",
   "metadata": {},
   "source": [
    "Q15. Why might you want to use custom error messages instead of relying on the default ones provided by Python?"
   ]
  },
  {
   "cell_type": "markdown",
   "id": "f22d8438",
   "metadata": {
    "id": "f22d8438"
   },
   "source": [
    "Q16. Write a function that takes a number as an argument and raises a custom exception\n",
    "if the number is negative."
   ]
  },
  {
   "cell_type": "markdown",
   "id": "758d7e2d",
   "metadata": {
    "id": "758d7e2d"
   },
   "source": [
    "Q17. Write a function that accepts a filename. If the file doesn't exist,\n",
    "raise a custom exception with the message \"File not found.\""
   ]
  }
 ],
 "metadata": {
  "colab": {
   "provenance": []
  },
  "kernelspec": {
   "display_name": "Python 3 (ipykernel)",
   "language": "python",
   "name": "python3"
  },
  "language_info": {
   "codemirror_mode": {
    "name": "ipython",
    "version": 3
   },
   "file_extension": ".py",
   "mimetype": "text/x-python",
   "name": "python",
   "nbconvert_exporter": "python",
   "pygments_lexer": "ipython3",
   "version": "3.8.4"
  }
 },
 "nbformat": 4,
 "nbformat_minor": 5
}
